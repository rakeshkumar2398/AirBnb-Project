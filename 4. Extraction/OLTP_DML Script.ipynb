{
 "cells": [
  {
   "cell_type": "code",
   "execution_count": 1,
   "id": "8b0a6e0a",
   "metadata": {},
   "outputs": [
    {
     "name": "stdout",
     "output_type": "stream",
     "text": [
      "Script started.\n",
      "Connecting to S3 to retrieve data...\n",
      "Data successfully loaded from S3.\n",
      "Connecting to RDS database...\n",
      "Inserting data into the database...\n",
      "Data successfully inserted into the database.\n",
      "Script executed successfully.\n"
     ]
    }
   ],
   "source": [
    "import boto3\n",
    "import pandas as pd\n",
    "from sqlalchemy import create_engine\n",
    "from io import StringIO\n",
    "\n",
    "# Function to load data from S3\n",
    "def load_data_from_s3(bucket_name, file_key):\n",
    "    print(\"Connecting to S3 to retrieve data...\")\n",
    "    s3_client = boto3.client('s3')\n",
    "    csv_obj = s3_client.get_object(Bucket=bucket_name, Key=file_key)\n",
    "    body = csv_obj['Body']\n",
    "    csv_string = body.read().decode('utf-8')\n",
    "    df = pd.read_csv(StringIO(csv_string), low_memory=False)  # Adjust dtype or parsing options as needed\n",
    "    print(\"Data successfully loaded from S3.\")\n",
    "    return df\n",
    "\n",
    "# Function to insert data into RDS using SQLAlchemy for efficient batch inserts\n",
    "def insert_data_to_rds(df, database_details):\n",
    "    print(\"Connecting to RDS database...\")\n",
    "    # Database connection URL\n",
    "    database_url = f\"mysql+pymysql://{database_details['user']}:{database_details['password']}@{database_details['host']}/{database_details['database']}\"\n",
    "    engine = create_engine(database_url)\n",
    "\n",
    "    print(\"Inserting data into the database...\")\n",
    "    df.to_sql('listings', con=engine, index=False, if_exists='append', chunksize=500)  # Adjust chunksize based on your needs\n",
    "    print(\"Data successfully inserted into the database.\")\n",
    "\n",
    "# Main execution\n",
    "bucket_name = 'group-1-final-project-finalsdata'\n",
    "file_key = 'final_airbnb_dataset.csv'\n",
    "database_details = {\n",
    "    'host': 'database-2.c5s0q6g8qg6i.us-east-2.rds.amazonaws.com',\n",
    "    'user': 'admin',\n",
    "    'password': 'anveshalluri',\n",
    "    'database': 'airbnb_db'\n",
    "}\n",
    "\n",
    "print(\"Script started.\")\n",
    "data = load_data_from_s3(bucket_name, file_key)\n",
    "insert_data_to_rds(data, database_details)\n",
    "print(\"Script executed successfully.\")\n"
   ]
  }
 ],
 "metadata": {
  "kernelspec": {
   "display_name": "Python 3 (ipykernel)",
   "language": "python",
   "name": "python3"
  },
  "language_info": {
   "codemirror_mode": {
    "name": "ipython",
    "version": 3
   },
   "file_extension": ".py",
   "mimetype": "text/x-python",
   "name": "python",
   "nbconvert_exporter": "python",
   "pygments_lexer": "ipython3",
   "version": "3.11.4"
  }
 },
 "nbformat": 4,
 "nbformat_minor": 5
}
